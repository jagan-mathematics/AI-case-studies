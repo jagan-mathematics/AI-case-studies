{
 "cells": [
  {
   "cell_type": "code",
   "execution_count": 1,
   "id": "238baeeb-6eb2-4887-a295-107e996a2757",
   "metadata": {},
   "outputs": [],
   "source": [
    "import matplotlib.pyplot as plt\n",
    "\n",
    "import torch\n",
    "from torch import nn\n",
    "from torch import optim\n",
    "import numpy as np"
   ]
  },
  {
   "cell_type": "markdown",
   "id": "2165ed74-91af-4e5c-8849-d3ca659ee9be",
   "metadata": {},
   "source": [
    "## Create dummy dataset"
   ]
  },
  {
   "cell_type": "markdown",
   "id": "085bddd6-f313-4228-9660-70188ef53f84",
   "metadata": {},
   "source": [
    "#### Regresssion"
   ]
  },
  {
   "cell_type": "code",
   "execution_count": 2,
   "id": "6c3f8556-7895-4ba0-b57d-436ba6f9e70c",
   "metadata": {},
   "outputs": [],
   "source": [
    "SEED = 42\n",
    "\n",
    "def seed_everything(seed: int):\n",
    "    import random, os\n",
    "    import numpy as np\n",
    "    import torch\n",
    "    \n",
    "    random.seed(seed)\n",
    "    os.environ['PYTHONHASHSEED'] = str(seed)\n",
    "    np.random.seed(seed)\n",
    "    torch.manual_seed(seed)\n",
    "    torch.cuda.manual_seed(seed)\n",
    "    torch.backends.cudnn.deterministic = True\n",
    "    torch.backends.cudnn.benchmark = True\n",
    "\n",
    "seed_everything(42)"
   ]
  },
  {
   "cell_type": "code",
   "execution_count": 3,
   "id": "1d620541-8b68-409a-87cf-217f533135dc",
   "metadata": {
    "scrolled": true
   },
   "outputs": [],
   "source": [
    "class SyntheticRegressionData:  #@save\n",
    "    \"\"\"Synthetic data for linear regression.\"\"\"\n",
    "    def __init__(self, w, b, noise=0.01, num_train=1000, num_val=1000,\n",
    "                 batch_size=32):\n",
    "        super().__init__()\n",
    "        n = num_train + num_val\n",
    "        self.X = torch.randn(n, len(w))\n",
    "        noise = torch.randn(n, 1) * noise\n",
    "        self.y = torch.matmul(self.X, w.reshape((-1, 1))) + b + noise"
   ]
  },
  {
   "cell_type": "code",
   "execution_count": 4,
   "id": "3ee68922-3741-4cbe-b09b-7e0b53e3e14c",
   "metadata": {},
   "outputs": [],
   "source": [
    "d = 4\n",
    "\n",
    "def get_weights(r1, r2, size):\n",
    "    return (r1 - r2) * torch.rand(size) + r2\n",
    "\n",
    "\n",
    "weight = get_weights(-3, 3, size=(d, ))\n",
    "\n",
    "data = SyntheticRegressionData(w=weight, b=4.2)"
   ]
  },
  {
   "cell_type": "markdown",
   "id": "8e978b87-cdaf-4525-b1fc-d1999935b858",
   "metadata": {},
   "source": [
    "### model Decleration"
   ]
  },
  {
   "cell_type": "code",
   "execution_count": 5,
   "id": "8a57c1af-10e2-4c4d-9c45-37e3ce1defcb",
   "metadata": {
    "scrolled": true
   },
   "outputs": [],
   "source": [
    "model = nn.Linear(d, 1)"
   ]
  },
  {
   "cell_type": "markdown",
   "id": "c80a7f9d-bfd9-48f4-a890-703b9f427ffb",
   "metadata": {},
   "source": [
    "#### training Loop"
   ]
  },
  {
   "cell_type": "code",
   "execution_count": 6,
   "id": "cf977d19-409b-4a25-8b5a-a8cf2a70f960",
   "metadata": {},
   "outputs": [],
   "source": [
    "a = torch.zeros((0, d))"
   ]
  },
  {
   "cell_type": "code",
   "execution_count": 7,
   "id": "e44af93d-8a83-4951-b236-f60ed749dd49",
   "metadata": {},
   "outputs": [
    {
     "data": {
      "text/plain": [
       "tensor([[0.9599, 0.5624, 0.5717, 0.8604]])"
      ]
     },
     "execution_count": 7,
     "metadata": {},
     "output_type": "execute_result"
    }
   ],
   "source": [
    "a = torch.cat([a, torch.rand(1, d)], axis = 0)\n",
    "a"
   ]
  },
  {
   "cell_type": "code",
   "execution_count": 8,
   "id": "7c6c4e33-fd77-443a-af2e-063fa7289e55",
   "metadata": {},
   "outputs": [],
   "source": [
    "from tqdm.notebook import tqdm\n",
    "\n",
    "def train_test_split(X, Y, test_size=0.2):\n",
    "    train_x, train_y = torch.zeros((0, d)), torch.zeros((0, 1))\n",
    "    test_x, test_y = torch.zeros((0, d)), torch.zeros((0, 1))\n",
    "    \n",
    "    for x, y in tqdm(zip(X, Y), total=len(X)):\n",
    "        if np.random.uniform() > test_size:\n",
    "            train_x = torch.cat([train_x, x.unsqueeze(0)], axis = 0)\n",
    "            train_y = torch.cat([train_y, y.unsqueeze(0)], axis = 0)\n",
    "        else:\n",
    "            test_x = torch.cat([test_x, x.unsqueeze(0)], axis = 0)\n",
    "            test_y = torch.cat([test_y, y.unsqueeze(0)], axis = 0)\n",
    "\n",
    "    return train_x, train_y, test_x, test_y"
   ]
  },
  {
   "cell_type": "code",
   "execution_count": 9,
   "id": "b97c8f4c-cae7-485c-a3c7-38469b2b5431",
   "metadata": {},
   "outputs": [
    {
     "data": {
      "application/vnd.jupyter.widget-view+json": {
       "model_id": "bf293cfb047244a99ebda02fba762413",
       "version_major": 2,
       "version_minor": 0
      },
      "text/plain": [
       "  0%|          | 0/2000 [00:00<?, ?it/s]"
      ]
     },
     "metadata": {},
     "output_type": "display_data"
    }
   ],
   "source": [
    "train_x, train_y, test_x, test_y = train_test_split(data.X, data.y)"
   ]
  },
  {
   "cell_type": "code",
   "execution_count": 10,
   "id": "84dd7a05-f3d6-48e7-a7b4-5a9e0ffceb64",
   "metadata": {},
   "outputs": [
    {
     "name": "stdout",
     "output_type": "stream",
     "text": [
      "Total ::  2000\n",
      "\n",
      "Train dataset len :: 1572 prob :: 0.786\n",
      "Test dataset len :: 428 prob :: 0.214\n"
     ]
    }
   ],
   "source": [
    "print(\"Total :: \", len(data.X))\n",
    "print()\n",
    "print(f\"Train dataset len :: {len(train_x)} prob :: {len(train_x)/ len(data.X)}\")\n",
    "print(f\"Test dataset len :: {len(test_x)} prob :: {len(test_x)/ len(data.X)}\")\n",
    "\n",
    "assert len(train_x) == len(train_y)\n",
    "assert len(test_x) == len(test_y)"
   ]
  },
  {
   "cell_type": "code",
   "execution_count": 11,
   "id": "c6a34262-00be-4217-a2ad-0479348c7797",
   "metadata": {
    "scrolled": true
   },
   "outputs": [],
   "source": [
    "EPOCH = 6\n",
    "BATCH_SIZE = 32\n",
    "LEARNING_RATE = 0.01\n",
    "\n",
    "cost_function = nn.MSELoss()\n",
    "optimizer = optim.SGD(model.parameters(), lr=LEARNING_RATE)\n",
    "\n",
    "\n",
    "def train_loop(epoch, train_x, train_y, batch_size=BATCH_SIZE):\n",
    "    total_data_size = train_x.shape[0]\n",
    "    running_loss = 0\n",
    "    \n",
    "    for i in tqdm(range(0, total_data_size, batch_size), total=total_data_size//batch_size):\n",
    "        batch_x = train_x[i:i+batch_size]\n",
    "        batch_y = train_y[i:i+batch_size]\n",
    "\n",
    "            \n",
    "        pred  = model(batch_x)\n",
    "        loss = cost_function(pred, batch_y)\n",
    "    \n",
    "        optimizer.zero_grad()\n",
    "        loss.backward()\n",
    "        optimizer.step()\n",
    "\n",
    "        running_loss += loss.item()\n",
    "\n",
    "    print(f\"Epoch :: {epoch} Average Loss :: {running_loss}\")\n",
    "    return running_loss\n",
    "\n",
    "\n",
    "def validation_loop(epoch, test_x, test_y, batch_size=BATCH_SIZE):\n",
    "    total_data_size = test_x.shape[0]\n",
    "    running_loss = 0\n",
    "    for i in tqdm(range(0, total_data_size, batch_size), total=total_data_size//batch_size):\n",
    "        batch_x = test_x[i:i+batch_size]\n",
    "        batch_y = test_y[i:i+batch_size]\n",
    "        pred  = model(batch_x)\n",
    "        loss = cost_function(pred, batch_y)\n",
    "        running_loss += loss.item()\n",
    "\n",
    "    return running_loss"
   ]
  },
  {
   "cell_type": "code",
   "execution_count": 12,
   "id": "8e870463-7107-48a7-9600-1628a79e5afa",
   "metadata": {},
   "outputs": [],
   "source": [
    "def train(num_epoch=EPOCH):\n",
    "    training_loss = []\n",
    "    validation_loss = []\n",
    "    for i in range(num_epoch):\n",
    "        loss = train_loop(i+1, train_x, train_y)\n",
    "        training_loss.append(loss)\n",
    "        val_loss = validation_loop(i +1, test_x, test_y)\n",
    "        validation_loss.append(val_loss)\n",
    "    return training_loss, validation_loss"
   ]
  },
  {
   "cell_type": "code",
   "execution_count": 13,
   "id": "de564164-5b4d-4547-9b7a-44ebec6b11b5",
   "metadata": {
    "scrolled": true
   },
   "outputs": [
    {
     "data": {
      "application/vnd.jupyter.widget-view+json": {
       "model_id": "3db5897e943f4e1da669e841d19b6c0b",
       "version_major": 2,
       "version_minor": 0
      },
      "text/plain": [
       "  0%|          | 0/49 [00:00<?, ?it/s]"
      ]
     },
     "metadata": {},
     "output_type": "display_data"
    },
    {
     "name": "stdout",
     "output_type": "stream",
     "text": [
      "Epoch :: 1 Average Loss :: 899.8960843086243\n"
     ]
    },
    {
     "data": {
      "application/vnd.jupyter.widget-view+json": {
       "model_id": "c7fdc948b26d4de49aa1b30da0d22ad6",
       "version_major": 2,
       "version_minor": 0
      },
      "text/plain": [
       "  0%|          | 0/13 [00:00<?, ?it/s]"
      ]
     },
     "metadata": {},
     "output_type": "display_data"
    },
    {
     "data": {
      "application/vnd.jupyter.widget-view+json": {
       "model_id": "5f348e6dc8b5415dba20e21f99dc943c",
       "version_major": 2,
       "version_minor": 0
      },
      "text/plain": [
       "  0%|          | 0/49 [00:00<?, ?it/s]"
      ]
     },
     "metadata": {},
     "output_type": "display_data"
    },
    {
     "name": "stdout",
     "output_type": "stream",
     "text": [
      "Epoch :: 2 Average Loss :: 120.69374138116837\n"
     ]
    },
    {
     "data": {
      "application/vnd.jupyter.widget-view+json": {
       "model_id": "b120f64c229643d0a56b53d15b1307be",
       "version_major": 2,
       "version_minor": 0
      },
      "text/plain": [
       "  0%|          | 0/13 [00:00<?, ?it/s]"
      ]
     },
     "metadata": {},
     "output_type": "display_data"
    },
    {
     "data": {
      "application/vnd.jupyter.widget-view+json": {
       "model_id": "29f955ea7ae94b27ab4818cf84cdda2b",
       "version_major": 2,
       "version_minor": 0
      },
      "text/plain": [
       "  0%|          | 0/49 [00:00<?, ?it/s]"
      ]
     },
     "metadata": {},
     "output_type": "display_data"
    },
    {
     "name": "stdout",
     "output_type": "stream",
     "text": [
      "Epoch :: 3 Average Loss :: 16.38790526241064\n"
     ]
    },
    {
     "data": {
      "application/vnd.jupyter.widget-view+json": {
       "model_id": "7788f16e1cfc45759e1c0d3c0c93dbad",
       "version_major": 2,
       "version_minor": 0
      },
      "text/plain": [
       "  0%|          | 0/13 [00:00<?, ?it/s]"
      ]
     },
     "metadata": {},
     "output_type": "display_data"
    },
    {
     "data": {
      "application/vnd.jupyter.widget-view+json": {
       "model_id": "99cea321e1c24082ac3393b1f7f33263",
       "version_major": 2,
       "version_minor": 0
      },
      "text/plain": [
       "  0%|          | 0/49 [00:00<?, ?it/s]"
      ]
     },
     "metadata": {},
     "output_type": "display_data"
    },
    {
     "name": "stdout",
     "output_type": "stream",
     "text": [
      "Epoch :: 4 Average Loss :: 2.256075318902731\n"
     ]
    },
    {
     "data": {
      "application/vnd.jupyter.widget-view+json": {
       "model_id": "c4786e48f0494576a131b3a3bc1ff16d",
       "version_major": 2,
       "version_minor": 0
      },
      "text/plain": [
       "  0%|          | 0/13 [00:00<?, ?it/s]"
      ]
     },
     "metadata": {},
     "output_type": "display_data"
    },
    {
     "data": {
      "application/vnd.jupyter.widget-view+json": {
       "model_id": "e095558f37cf4d77ad4b5f7bf3bf886f",
       "version_major": 2,
       "version_minor": 0
      },
      "text/plain": [
       "  0%|          | 0/49 [00:00<?, ?it/s]"
      ]
     },
     "metadata": {},
     "output_type": "display_data"
    },
    {
     "name": "stdout",
     "output_type": "stream",
     "text": [
      "Epoch :: 5 Average Loss :: 0.3182502264389768\n"
     ]
    },
    {
     "data": {
      "application/vnd.jupyter.widget-view+json": {
       "model_id": "c8f07f3161704ea6bf2e84bd56549e3b",
       "version_major": 2,
       "version_minor": 0
      },
      "text/plain": [
       "  0%|          | 0/13 [00:00<?, ?it/s]"
      ]
     },
     "metadata": {},
     "output_type": "display_data"
    },
    {
     "data": {
      "application/vnd.jupyter.widget-view+json": {
       "model_id": "562a760f353040d8be627e7a0cb4f4d9",
       "version_major": 2,
       "version_minor": 0
      },
      "text/plain": [
       "  0%|          | 0/49 [00:00<?, ?it/s]"
      ]
     },
     "metadata": {},
     "output_type": "display_data"
    },
    {
     "name": "stdout",
     "output_type": "stream",
     "text": [
      "Epoch :: 6 Average Loss :: 0.049261942447628826\n"
     ]
    },
    {
     "data": {
      "application/vnd.jupyter.widget-view+json": {
       "model_id": "d51df427c52f4e9a8eda6213fe3a8761",
       "version_major": 2,
       "version_minor": 0
      },
      "text/plain": [
       "  0%|          | 0/13 [00:00<?, ?it/s]"
      ]
     },
     "metadata": {},
     "output_type": "display_data"
    }
   ],
   "source": [
    "training_loss, validation_loss = train(EPOCH)"
   ]
  },
  {
   "cell_type": "code",
   "execution_count": 14,
   "id": "a5a6dbab-9d3c-499b-a4de-6c2b365e9139",
   "metadata": {},
   "outputs": [],
   "source": [
    "learned_weights = list(model.parameters())[0]"
   ]
  },
  {
   "cell_type": "code",
   "execution_count": 15,
   "id": "3244097e-f3b9-43ee-b456-441821158e11",
   "metadata": {},
   "outputs": [],
   "source": [
    "torch.testing.assert_close(learned_weights[0], weight, rtol=0.01, atol=0.01)"
   ]
  },
  {
   "cell_type": "code",
   "execution_count": 19,
   "id": "c2c062c1-bc49-4d1c-b071-9632950250d4",
   "metadata": {},
   "outputs": [
    {
     "data": {
      "image/png": "[encoded data removed]",
      "text/plain": [
       "<Figure size 640x480 with 1 Axes>"
      ]
     },
     "metadata": {},
     "output_type": "display_data"
    }
   ],
   "source": [
    "plt.plot(list(range(EPOCH)), training_loss)\n",
    "plt.plot(list(range(EPOCH)), validation_loss)\n",
    "plt.show()"
   ]
  },
  {
   "cell_type": "code",
   "execution_count": 17,
   "id": "3d235523-90f0-4404-b60f-78c6a8c36eba",
   "metadata": {},
   "outputs": [
    {
     "data": {
      "text/plain": [
       "[<matplotlib.lines.Line2D at 0x7249f7203390>]"
      ]
     },
     "execution_count": 17,
     "metadata": {},
     "output_type": "execute_result"
    },
    {
     "data": {
      "image/png": "[encoded data removed]",
      "text/plain": [
       "<Figure size 640x480 with 1 Axes>"
      ]
     },
     "metadata": {},
     "output_type": "display_data"
    }
   ],
   "source": []
  },
  {
   "cell_type": "code",
   "execution_count": null,
   "id": "a6a15b88-8374-4a34-8113-cd5bbbb4ae1e",
   "metadata": {},
   "outputs": [],
   "source": []
  }
 ],
 "metadata": {
  "kernelspec": {
   "display_name": "Python 3 (ipykernel)",
   "language": "python",
   "name": "python3"
  },
  "language_info": {
   "codemirror_mode": {
    "name": "ipython",
    "version": 3
   },
   "file_extension": ".py",
   "mimetype": "text/x-python",
   "name": "python",
   "nbconvert_exporter": "python",
   "pygments_lexer": "ipython3",
   "version": "3.11.10"
  }
 },
 "nbformat": 4,
 "nbformat_minor": 5
}
